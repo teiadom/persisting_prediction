{
  "nbformat": 4,
  "nbformat_minor": 0,
  "metadata": {
    "kernelspec": {
      "display_name": "Python 3",
      "language": "python",
      "name": "python3"
    },
    "language_info": {
      "codemirror_mode": {
        "name": "ipython",
        "version": 3
      },
      "file_extension": ".py",
      "mimetype": "text/x-python",
      "name": "python",
      "nbconvert_exporter": "python",
      "pygments_lexer": "ipython3",
      "version": "3.7.6"
    },
    "colab": {
      "name": "persisting_prediction .ipynb",
      "provenance": []
    }
  },
  "cells": [
    {
      "cell_type": "code",
      "metadata": {
        "colab": {
          "base_uri": "https://localhost:8080/"
        },
        "id": "KXGIMZv8L7HP",
        "outputId": "f57edc2e-cd57-4171-fd27-1be7d931428e"
      },
      "source": [
        "import pandas as pd\n",
        "\n",
        "from sklearn.tree import DecisionTreeClassifier\n",
        "from sklearn.model_selection import train_test_split\n",
        "from sklearn.metrics import accuracy_score\n",
        "from sklearn.externals import joblib\n",
        "\n",
        "music_data = pd.read_csv('music.csv')\n",
        "X = music_data.drop(columns = ['genre'])\n",
        "y = music_data['genre']\n",
        "\n",
        "\n",
        "# Testing accuracy every time\n",
        "# X_train, X_test, y_train, y_test = train_test_split(X, y, test_size=0.3)\n",
        "# model = DecisionTreeClassifier()\n",
        "# model.fit(X_train, y_train)\n",
        "# predictions = model.predict(X_test)\n",
        "# score = accuracy_score(y_test, predictions)\n",
        "# score\n",
        "\n",
        "#Saving a persistent model and calling it for tasks\n",
        "model = DecisionTreeClassifier()\n",
        "model.fit(X,y)\n",
        "joblib.dump(model, 'music-recomm.joblib')\n",
        "\n",
        "#Loading the trained model for prediction\n",
        "#model = joblib.load('music-recomm.joblib')\n",
        "#predictions = model.predict([[21, 1]])\n",
        "#predictions"
      ],
      "execution_count": 24,
      "outputs": [
        {
          "output_type": "execute_result",
          "data": {
            "text/plain": [
              "array(['HipHop'], dtype=object)"
            ]
          },
          "metadata": {
            "tags": []
          },
          "execution_count": 24
        }
      ]
    }
  ]
}